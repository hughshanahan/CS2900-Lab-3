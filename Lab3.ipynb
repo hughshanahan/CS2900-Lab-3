{
 "cells": [
  {
   "cell_type": "markdown",
   "id": "97e5d866",
   "metadata": {},
   "source": [
    "<div id=\"header\">\n",
    "<h1 class=\"title\">CS2900 :- Topic 3 Lab</h1>\n",
    "<h2 class=\"author\">Hugh Shanahan and Tom Kuipers</h2>\n",
    "</div>"
   ]
  },
  {
   "cell_type": "markdown",
   "id": "30da97c3",
   "metadata": {},
   "source": [
    "The learning outcomes of this session are:\n",
    "\n",
    "-   To have an introductory understanding of solving linear equations in\n",
    "    NumPy and be introduced to ill-conditioned matrices. To have\n",
    "    experience of using the NumPy reference document pages.\n",
    "\n",
    "-   To become familiar with projecting onto sub-spaces and null spaces.\n",
    "\n",
    "-   Introduce the concept of power series solutions.\n",
    "\n",
    "Set up\n",
    "======\n",
    "\n",
    "1. Initialise the the test suite so that you can check and grade your solutions.\n",
    "\n",
    "2. Be sure to import NumPy just as you did in the previous lab sheets."
   ]
  },
  {
   "cell_type": "code",
   "execution_count": null,
   "id": "c267dd42",
   "metadata": {},
   "outputs": [],
   "source": [
    "from client.api.notebook import Notebook\n",
    "ok = Notebook('config/lab3.ok')"
   ]
  },
  {
   "cell_type": "code",
   "execution_count": null,
   "id": "f80fe856",
   "metadata": {},
   "outputs": [],
   "source": [
    "import numpy as np\n",
    "import math"
   ]
  },
  {
   "cell_type": "markdown",
   "id": "2cb92761",
   "metadata": {},
   "source": [
    "# Rectangular matrices"
   ]
  },
  {
   "cell_type": "markdown",
   "id": "03bab19f",
   "metadata": {},
   "source": [
    "As noted in the lectures we can define rectangular matrices:"
   ]
  },
  {
   "cell_type": "code",
   "execution_count": null,
   "id": "ac4752dc",
   "metadata": {},
   "outputs": [],
   "source": [
    "A = np.array([[1,2,3],[3,2,1]])\n",
    "B = np.array([[1,1,1,2],[-1,-1,0,3],[0,1,0,1]])\n",
    "print(A)\n",
    "print(B)"
   ]
  },
  {
   "cell_type": "markdown",
   "id": "a2992c39",
   "metadata": {},
   "source": [
    "## CHECKPOINT 1\n",
    "\n",
    "**Multiply these matrices:**\n",
    "- **Define the variable `AB` equal to the multplication $AB$**\n",
    "- **Do the same as above for $BA$.**\n",
    "\n",
    "**Try and predict what will happen before you do this.** "
   ]
  },
  {
   "cell_type": "code",
   "execution_count": null,
   "id": "769a53d5",
   "metadata": {},
   "outputs": [],
   "source": [
    "# Your code here...\n"
   ]
  },
  {
   "cell_type": "code",
   "execution_count": null,
   "id": "3314f8cb",
   "metadata": {},
   "outputs": [],
   "source": [
    "ok.grade('cp1')"
   ]
  },
  {
   "cell_type": "markdown",
   "id": "39655e95",
   "metadata": {},
   "source": [
    "\n",
    "Solving linear equations\n",
    "========================\n",
    "\n",
    "As discussed in Topic 3 we can solve equations of the form:\n",
    "$$\\mathbf{A} \\underline{x} \\;\\; = \\;\\; \\underline{b} \\;\\; ,\n",
    "(1)$$ where we know $\\mathbf{A}$ and $\\underline{b}$\n",
    "but not $\\underline{x}$. \n",
    "\n",
    "In NumPy this can be computed using the function `numpy.linalg.solve`.\n",
    "\n",
    "Solving\n",
    "-------\n",
    "Go to the NumPy reference pages\n",
    "    <a href=\"https://docs.scipy.org/doc/numpy/reference/\" class=\"uri\">https://docs.scipy.org/doc/numpy/reference/</a>\n",
    "    and find the page on `numpy.linalg.solve` and determine how to use it\n",
    "    to solve the above equation."
   ]
  },
  {
   "cell_type": "code",
   "execution_count": null,
   "id": "e6c2beb5",
   "metadata": {},
   "outputs": [],
   "source": [
    "# You can use this code cell to play around with solving...\n",
    "\n"
   ]
  },
  {
   "cell_type": "markdown",
   "id": "93d68f37",
   "metadata": {},
   "source": [
    "## CHECKPOINT 2\n",
    "\n",
    "- **Create two lists `As` and `bs` which are composed of four NumPy matrices and four NumPy vectors respectively. They should have the following values (ensure that all the values are of type `float`).**\n",
    "\n",
    "$$\\begin{aligned}\n",
    "\\mathbf{As}[0] = \n",
    "\\begin{pmatrix}\n",
    "10 & 1 \\\\\n",
    "1 & 10 \n",
    "\\end{pmatrix}\n",
    "&& \\underline{bs}[0] = \n",
    "\\begin{pmatrix}\n",
    "200 \\\\\n",
    "-200\n",
    "\\end{pmatrix} \\\\\n",
    "\\mathbf{As}[1] = \n",
    "\\begin{pmatrix}\n",
    "10 & 1 & 2\\\\\n",
    "1 & 10 & -3 \\\\\n",
    "3 & 15 & -3 \n",
    "\\end{pmatrix}\n",
    "&& \\underline{bs}[1] = \n",
    "\\begin{pmatrix}\n",
    "200 \\\\\n",
    "-200 \\\\\n",
    "-150\n",
    "\\end{pmatrix} \\\\\n",
    "\\mathbf{As}[2] = \n",
    "\\begin{pmatrix}\n",
    "10 & 1 & 2\\\\\n",
    "1 & 10 & -3 \n",
    "\\end{pmatrix}\n",
    "&& \\underline{bs}[2] = \n",
    "\\begin{pmatrix}\n",
    "200 \\\\\n",
    "-200 \\\\\n",
    "-150\n",
    "\\end{pmatrix} \\\\\n",
    "\\mathbf{As}[3] = \n",
    "\\begin{pmatrix}\n",
    "1 & 1 \\\\\n",
    "2 & 2\n",
    "\\end{pmatrix}\n",
    "&& \\underline{bs}[3] = \n",
    "\\begin{pmatrix}\n",
    "200 \\\\\n",
    "-200\n",
    "\\end{pmatrix} \\end{aligned}$$\n",
    "    \n",
    "- **Use `numpy.linalg.solve` to solve equations of the form (1) (described above) to create a list `xs` where each entry is a solution to the corresponding value in `As` and `bs`.**\n",
    "\n",
    "**NOTE:** Some of these instances will create an error. Ask yourself why did this happen?"
   ]
  },
  {
   "cell_type": "code",
   "execution_count": null,
   "id": "8423c401",
   "metadata": {},
   "outputs": [],
   "source": [
    "# Your code here...\n"
   ]
  },
  {
   "cell_type": "code",
   "execution_count": null,
   "id": "5b7abd48",
   "metadata": {},
   "outputs": [],
   "source": [
    "ok.grade('cp2')"
   ]
  },
  {
   "cell_type": "markdown",
   "id": "4e3479c0",
   "metadata": {},
   "source": [
    "## CHECKPOINT 3\n",
    "\n",
    "- **Write a function `checkNull` that accepts a single argument `p` which is a NumPy vector.**\n",
    "    - **`checkNull` returns a boolean that is `True` is the length of the vector is less than $10^{-6}$ and `False` otherwise.**\n",
    "\n",
    "\n",
    "- **Create new lists `Cs`, `ds` and `solutions` which are the matrices and vectors inside `As`, `bs` and `xs` where there is a solution (i.e. the code does not throw an error).**"
   ]
  },
  {
   "cell_type": "code",
   "execution_count": null,
   "id": "5d5a34ff",
   "metadata": {},
   "outputs": [],
   "source": [
    "# Your code here...\n",
    "\n"
   ]
  },
  {
   "cell_type": "code",
   "execution_count": null,
   "id": "87a6a5ba",
   "metadata": {},
   "outputs": [],
   "source": [
    "ok.grade('cp3')"
   ]
  },
  {
   "cell_type": "markdown",
   "id": "502d3315",
   "metadata": {},
   "source": [
    "## CHECKPOINT 4\n",
    "\n",
    "**One can check if the above approach is correct by checking if**\n",
    "\n",
    "$$\n",
    "\\begin{equation}\n",
    "\\mathbf{C}[i] \\underline{d}[i] - \\underline{y}[i] \\;\\; = \\;\\; \\underline{0} \\;\\;\\; (2)\n",
    "\\end{equation}\n",
    "$$\n",
    "\n",
    "(where $i$ is the $i$th entry of each of the lists - so if all of the above cases of `A` and `b` have solutions, then $i=0 \\dots 3$.)\n",
    "\n",
    "- **Write another function `testSolutions` which accepts as arguments `C`, `d` and `y`.**\n",
    "    - **`testSolutions` returns a tuple of _boolean_ values that are return values of `checkNull`, where the vector passed to it is the left hand side of (2) for each entry of $i$.**"
   ]
  },
  {
   "cell_type": "code",
   "execution_count": null,
   "id": "4eb15e9f",
   "metadata": {},
   "outputs": [],
   "source": [
    "# Your code here...\n",
    "\n"
   ]
  },
  {
   "cell_type": "code",
   "execution_count": null,
   "id": "23b0fb81",
   "metadata": {},
   "outputs": [],
   "source": [
    "ok.grade('cp4')"
   ]
  },
  {
   "cell_type": "markdown",
   "id": "923f3ee3",
   "metadata": {},
   "source": [
    "# Nearly singular matrices\n",
    "\n",
    "We’ve note previously that many matrices are singular -\n",
    "i.e. non-invertible. There are also many matrices which are nearly\n",
    "singular. The upshot of this is that solutions to equation **(1)**\n",
    "are very unstable. This can even turn up in simple $2 \\times 2$\n",
    "matrices."
   ]
  },
  {
   "cell_type": "markdown",
   "id": "554ef8ea",
   "metadata": {},
   "source": [
    "## CHECKPOINT 5\n",
    "\n",
    "**Consider the following very similar matrices:**\n",
    "\n",
    "$$\\mathbf{E1} = \n",
    "    \\begin{pmatrix}\n",
    "    400.0 & -201.0\\\\\n",
    "    -800.0&401.0 \n",
    "    \\end{pmatrix}\n",
    "    \\;\\; \n",
    "    \\mathbf{E2} = \n",
    "    \\begin{pmatrix}\n",
    "    401.0 & -201.0\\\\\n",
    "    -800.0&401.0 \n",
    "    \\end{pmatrix}$$\n",
    "\n",
    "**For**\n",
    "\n",
    "$$\\underline{z} \\;\\; = \\;\\; \n",
    "    \\begin{pmatrix}\n",
    "    200.0 \\\\\n",
    "    -200.0\n",
    "    \\end{pmatrix}$$ \n",
    "    \n",
    "**Compute the solutions $x1$, $x2$ for** \n",
    "$$\\begin{aligned}\n",
    "    \\mathbf{E1} \\underline{x1} \\;\\; &=& \\underline{z} \\;\\; ,\\\\\n",
    "    \\mathbf{E1} \\underline{x2} \\;\\; &=& \\underline{z} \\;\\; .\\end{aligned}$$\n",
    "    \n",
    "**Compare these solutions. How similar are they? Why do you think that has happened?**"
   ]
  },
  {
   "cell_type": "code",
   "execution_count": null,
   "id": "d19bc1a0",
   "metadata": {},
   "outputs": [],
   "source": [
    "# Your code here...\n",
    "\n",
    "print(. . .)\n",
    "print(. . .)"
   ]
  },
  {
   "cell_type": "code",
   "execution_count": null,
   "id": "d8694ea9",
   "metadata": {},
   "outputs": [],
   "source": [
    "# No tester for this question, just for you to think about."
   ]
  },
  {
   "attachments": {
    "Lab3_1.png": {
     "image/png": "[encoded data removed]"
    }
   },
   "cell_type": "markdown",
   "id": "0a8f4696",
   "metadata": {},
   "source": [
    "# Projection\n",
    "\n",
    "As discussed in Topic 3, we can project a vector in a particular space\n",
    "onto a sub-space (e.g. project a vector in 2 dimensions onto a line,\n",
    "project a vector in 3 dimensions onto a plane and so on).\n",
    "\n",
    "To do this we need a orthonormal basis for the sub-space.\n",
    "\n",
    "We then construct a matrix $\\mathbf{P}$ whose rows are made up of the\n",
    "unit vectors of the orthonormal basis. \n",
    "\n",
    "If the vector we want to project\n",
    "is $\\underline{x}$ then\n",
    "$\\mathbf{M} = \\mathbf (\\mathbf{P}^{\\intercal} \\mathbf{P}) \\underline{x}$ is the projected\n",
    "vector.\n",
    "\n",
    "$\\mathbf{M}$ is matrix we can use to project *any* vector in the space onto the sub-space.\n",
    "\n",
    "# 2 Dimensions\n",
    "\n",
    "We’ll first consider a 2 dimensional example with the following line.\n",
    "\n",
    "<figure>\n",
    "<img src=\"attachment:Lab3_1.png\" alt=\"image\" style=\"height:4cm\" />\n",
    "</figure>\n",
    "\n",
    "We define"
   ]
  },
  {
   "cell_type": "code",
   "execution_count": null,
   "id": "803c6a88",
   "metadata": {},
   "outputs": [],
   "source": [
    "u_hat = np.array([1.0/math.sqrt(2),1.0/math.sqrt(2)])"
   ]
  },
  {
   "cell_type": "code",
   "execution_count": null,
   "id": "fe79ee6c",
   "metadata": {},
   "outputs": [],
   "source": [
    "P = np.array([u_hat])"
   ]
  },
  {
   "cell_type": "markdown",
   "id": "3be7a39c",
   "metadata": {},
   "source": [
    "    (It's important make sure you have the square bracket ordering correct.)"
   ]
  },
  {
   "cell_type": "code",
   "execution_count": null,
   "id": "1f3d8479",
   "metadata": {},
   "outputs": [],
   "source": [
    "Pt = np.transpose(P)"
   ]
  },
  {
   "cell_type": "code",
   "execution_count": null,
   "id": "7be53946",
   "metadata": {},
   "outputs": [],
   "source": [
    "M = Pt.dot(P)"
   ]
  },
  {
   "cell_type": "code",
   "execution_count": null,
   "id": "8dbafcbc",
   "metadata": {},
   "outputs": [],
   "source": [
    "print(M)"
   ]
  },
  {
   "cell_type": "markdown",
   "id": "db30423d",
   "metadata": {},
   "source": [
    "## CHECKPOINT 6\n",
    "\n",
    "**One can now use $\\mathbf{M}$ to project a vector onto this line.**\n",
    "\n",
    "- **Define the list `X_cp6` ($X$) where**\n",
    "\n",
    "$$\\begin{aligned}\n",
    "X[0] = \\begin{pmatrix}\n",
    "1\\\\ 0 \n",
    "\\end{pmatrix} \\\\\n",
    "X[1] = \n",
    "\\begin{pmatrix}\n",
    "1\\\\ 1 \n",
    "\\end{pmatrix} \\\\\n",
    "X[2] = \n",
    "\\begin{pmatrix}\n",
    "0 \\\\ -1 \n",
    "\\end{pmatrix}\\\\\n",
    "X[3] = \n",
    "\\begin{pmatrix}\n",
    "1\\\\ -1 \n",
    "\\end{pmatrix}\n",
    "\\end{aligned}\n",
    "$$ \n",
    "\n",
    "- **Create a list `Y_cp6` where $Y[i] = M X[i]$.**\n",
    "    \n",
    "**What did you find? Did they match with what you expected?**"
   ]
  },
  {
   "cell_type": "code",
   "execution_count": null,
   "id": "3713da3d",
   "metadata": {},
   "outputs": [],
   "source": [
    "# Your code here...\n",
    "\n"
   ]
  },
  {
   "cell_type": "code",
   "execution_count": null,
   "id": "4aacf560",
   "metadata": {},
   "outputs": [],
   "source": [
    "ok.grade('cp6')"
   ]
  },
  {
   "cell_type": "markdown",
   "id": "d6493b58",
   "metadata": {},
   "source": [
    "We could have picked a different unit vector to represent the same line, namely;\n",
    "\n",
    "$\\underline{\\hat{u}} = \\begin{pmatrix}-1/\\sqrt 2 \\\\ -1 / \\sqrt 2\\end{pmatrix}$.\n",
    "    \n",
    "## CHECKPOINT 7\n",
    "    \n",
    "- **Compute `Mnew` using the same procedure described at the start of this section with $\\underline{\\hat{u}}$.**\n",
    "\n",
    "**Compare  this with `M`. Are they different?**"
   ]
  },
  {
   "cell_type": "code",
   "execution_count": null,
   "id": "ae0e1552",
   "metadata": {},
   "outputs": [],
   "source": [
    "# Your code here...\n",
    "\n"
   ]
  },
  {
   "cell_type": "code",
   "execution_count": null,
   "id": "dcf812e3",
   "metadata": {},
   "outputs": [],
   "source": [
    "ok.grade('cp7')"
   ]
  },
  {
   "cell_type": "markdown",
   "id": "3364c26b",
   "metadata": {},
   "source": [
    "# 3 Dimensions\n",
    "\n",
    "This can be extended to three dimensions. In this case, we will consider\n",
    "the projection from 3 dimensions to the x-y plane and we shall pick as\n",
    "an orthonormal basis \n",
    "\n",
    "$$\\underline{\\hat{u}} =\n",
    "\\begin{pmatrix}\n",
    "1 \\\\\n",
    "0 \\\\\n",
    "0 \n",
    "\\end{pmatrix} \\;\\; \n",
    "\\underline{\\hat{v}} =\n",
    "\\begin{pmatrix}\n",
    "0 \\\\\n",
    "1 \\\\\n",
    "0 \n",
    "\\end{pmatrix}$$"
   ]
  },
  {
   "cell_type": "markdown",
   "id": "efad0632",
   "metadata": {},
   "source": [
    "## CHECKPOINT 8\n",
    "\n",
    "- **Define the variable `P_3` which is equal to the corresponding matrix $\\mathbf{P_3}$ using** $\\underline{\\hat{u}}$ and $\\underline{\\hat{v}}$ \n",
    "\n",
    "- **Hence, compute the variable `M_3` $ = \\mathbf{P_3}^{\\intercal}\\mathbf{P_3}$.**"
   ]
  },
  {
   "cell_type": "code",
   "execution_count": null,
   "id": "e51cb7fd",
   "metadata": {},
   "outputs": [],
   "source": [
    "# Your code here...\n",
    "\n"
   ]
  },
  {
   "cell_type": "code",
   "execution_count": null,
   "id": "9c8792a0",
   "metadata": {},
   "outputs": [],
   "source": [
    "ok.grade('cp8')"
   ]
  },
  {
   "cell_type": "markdown",
   "id": "58122129",
   "metadata": {},
   "source": [
    "## CHECKPOINT 9\n",
    "\n",
    "- **Compute the list `X_3` where**\n",
    "\n",
    "$$\n",
    "\\begin{aligned}\n",
    "X3[0] = \n",
    "\\begin{pmatrix}\n",
    "1 \\\\ 1 \\\\ 1\n",
    "\\end{pmatrix}, \\\\ \n",
    "X3[1] = \\begin{pmatrix}\n",
    "1 \\\\ 0 \\\\ 0\n",
    "\\end{pmatrix}, \\\\ \n",
    "X3[2] = \n",
    "\\begin{pmatrix}\n",
    "0 \\\\ 0 \\\\ 1\n",
    "\\end{pmatrix} \\\\\n",
    "\\end{aligned}\n",
    "$$ \n",
    "\n",
    "- **Compute the list `Y_3` where $Y3[i] = \\mathbf{M_3} \\underline{X3[i]}$.**\n",
    "\n",
    "**Do the results match what you expected?**"
   ]
  },
  {
   "cell_type": "code",
   "execution_count": null,
   "id": "8cc04dcd",
   "metadata": {},
   "outputs": [],
   "source": [
    "# Your code here...\n",
    "\n"
   ]
  },
  {
   "cell_type": "code",
   "execution_count": null,
   "id": "2f1d1699",
   "metadata": {},
   "outputs": [],
   "source": [
    "ok.grade('cp9')"
   ]
  },
  {
   "cell_type": "markdown",
   "id": "5cc9093d",
   "metadata": {},
   "source": [
    "## CHECKPOINT 10\n",
    "\n",
    "**We can repeat above for different basis vectors to represent the same sub-space, namely**\n",
    "\n",
    "$$\\underline{\\hat{u}} =\n",
    "    \\begin{pmatrix}\n",
    "    1/\\sqrt 2 \\\\\n",
    "    1 / \\sqrt 2\\\\\n",
    "    0 \n",
    "    \\end{pmatrix} \\;\\; \n",
    "    \\underline{\\hat{v}} =\n",
    "    \\begin{pmatrix}\n",
    "    1 / \\sqrt 2 \\\\\n",
    "    -1 / \\sqrt 2\\\\\n",
    "    0 \n",
    "    \\end{pmatrix}$$\n",
    "    \n",
    "**Compute the projection matrix `M_3alt` which is the projection matrix using these basis vectors and compare it with `M_3`.**"
   ]
  },
  {
   "cell_type": "code",
   "execution_count": null,
   "id": "9335f837",
   "metadata": {},
   "outputs": [],
   "source": [
    "# Your code here...\n",
    "\n"
   ]
  },
  {
   "cell_type": "code",
   "execution_count": null,
   "id": "50290e34",
   "metadata": {},
   "outputs": [],
   "source": [
    "ok.grade('cp10')"
   ]
  },
  {
   "cell_type": "markdown",
   "id": "98071cfd",
   "metadata": {},
   "source": [
    "# Grading your Checkpoints\n",
    "\n",
    "Use the code cell below to grade your checkpoints and run all the tests. For this lab, there are **13** graded checkpoints. You should aim for at least **75%** on each lab sheet.\n",
    "\n",
    "Extension checkpoints are not graded but you are encouraged to do them if you have time and have finished the lab sheet! You will be expected to know how to write code using Numpy in the exam, so they are good practice."
   ]
  },
  {
   "cell_type": "code",
   "execution_count": null,
   "id": "bf3885cd",
   "metadata": {},
   "outputs": [],
   "source": [
    "ok.score()"
   ]
  }
 ],
 "metadata": {
  "author": [
   "Hugh Shanahan"
  ],
  "kernelspec": {
   "display_name": "Python 3 (ipykernel)",
   "language": "python",
   "name": "python3"
  },
  "language_info": {
   "codemirror_mode": {
    "name": "ipython",
    "version": 3
   },
   "file_extension": ".py",
   "mimetype": "text/x-python",
   "name": "python",
   "nbconvert_exporter": "python",
   "pygments_lexer": "ipython3",
   "version": "3.10.8"
  },
  "title": "CS2900 :- Topic 3 Lab"
 },
 "nbformat": 4,
 "nbformat_minor": 5
}
